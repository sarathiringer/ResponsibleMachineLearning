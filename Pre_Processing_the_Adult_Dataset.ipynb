{
  "nbformat": 4,
  "nbformat_minor": 0,
  "metadata": {
    "colab": {
      "name": "Pre-Processing the Adult Dataset.ipynb",
      "provenance": []
    },
    "kernelspec": {
      "name": "python3",
      "display_name": "Python 3"
    },
    "language_info": {
      "name": "python"
    }
  },
  "cells": [
    {
      "cell_type": "code",
      "metadata": {
        "colab": {
          "base_uri": "https://localhost:8080/"
        },
        "id": "BDL4p_MU90AH",
        "outputId": "373b721d-6121-4d9f-c971-a8b26f927f6b"
      },
      "source": [
        "!pip install fairlearn\n",
        "import pandas as pd\n",
        "import numpy as np"
      ],
      "execution_count": null,
      "outputs": [
        {
          "output_type": "stream",
          "name": "stdout",
          "text": [
            "Collecting fairlearn\n",
            "  Downloading fairlearn-0.7.0-py3-none-any.whl (177 kB)\n",
            "\u001b[?25l\r\u001b[K     |█▉                              | 10 kB 27.7 MB/s eta 0:00:01\r\u001b[K     |███▊                            | 20 kB 34.7 MB/s eta 0:00:01\r\u001b[K     |█████▌                          | 30 kB 27.8 MB/s eta 0:00:01\r\u001b[K     |███████▍                        | 40 kB 20.1 MB/s eta 0:00:01\r\u001b[K     |█████████▎                      | 51 kB 12.9 MB/s eta 0:00:01\r\u001b[K     |███████████                     | 61 kB 10.9 MB/s eta 0:00:01\r\u001b[K     |█████████████                   | 71 kB 11.9 MB/s eta 0:00:01\r\u001b[K     |██████████████▊                 | 81 kB 13.3 MB/s eta 0:00:01\r\u001b[K     |████████████████▋               | 92 kB 13.3 MB/s eta 0:00:01\r\u001b[K     |██████████████████▌             | 102 kB 12.9 MB/s eta 0:00:01\r\u001b[K     |████████████████████▎           | 112 kB 12.9 MB/s eta 0:00:01\r\u001b[K     |██████████████████████▏         | 122 kB 12.9 MB/s eta 0:00:01\r\u001b[K     |████████████████████████        | 133 kB 12.9 MB/s eta 0:00:01\r\u001b[K     |█████████████████████████▉      | 143 kB 12.9 MB/s eta 0:00:01\r\u001b[K     |███████████████████████████▊    | 153 kB 12.9 MB/s eta 0:00:01\r\u001b[K     |█████████████████████████████▌  | 163 kB 12.9 MB/s eta 0:00:01\r\u001b[K     |███████████████████████████████▍| 174 kB 12.9 MB/s eta 0:00:01\r\u001b[K     |████████████████████████████████| 177 kB 12.9 MB/s \n",
            "\u001b[?25hRequirement already satisfied: numpy>=1.17.2 in /usr/local/lib/python3.7/dist-packages (from fairlearn) (1.19.5)\n",
            "Requirement already satisfied: scikit-learn>=0.22.1 in /usr/local/lib/python3.7/dist-packages (from fairlearn) (0.22.2.post1)\n",
            "Requirement already satisfied: scipy>=1.4.1 in /usr/local/lib/python3.7/dist-packages (from fairlearn) (1.4.1)\n",
            "Requirement already satisfied: pandas>=0.25.1 in /usr/local/lib/python3.7/dist-packages (from fairlearn) (1.1.5)\n",
            "Requirement already satisfied: pytz>=2017.2 in /usr/local/lib/python3.7/dist-packages (from pandas>=0.25.1->fairlearn) (2018.9)\n",
            "Requirement already satisfied: python-dateutil>=2.7.3 in /usr/local/lib/python3.7/dist-packages (from pandas>=0.25.1->fairlearn) (2.8.2)\n",
            "Requirement already satisfied: six>=1.5 in /usr/local/lib/python3.7/dist-packages (from python-dateutil>=2.7.3->pandas>=0.25.1->fairlearn) (1.15.0)\n",
            "Requirement already satisfied: joblib>=0.11 in /usr/local/lib/python3.7/dist-packages (from scikit-learn>=0.22.1->fairlearn) (1.0.1)\n",
            "Installing collected packages: fairlearn\n",
            "Successfully installed fairlearn-0.7.0\n"
          ]
        }
      ]
    },
    {
      "cell_type": "markdown",
      "metadata": {
        "id": "sQvrU4TF93eF"
      },
      "source": [
        "## Introduction\n",
        "\n",
        "In this notebook, I'm going through a number of steps to pre-process the Adult dataset so as to make it ready for modelling. The steps taken include chossing a subset of the features, re-coding the missing values as 'Missing' (a bit unconventional, usually this isn't set as a category but rather removed or replaced by the mean or mode), one-hot-encoding (aka dummy coding) the categorical variables and standardizing the dataset."
      ]
    },
    {
      "cell_type": "markdown",
      "metadata": {
        "id": "S0N3BEiE-y6t"
      },
      "source": [
        "### 1. Loading the data"
      ]
    },
    {
      "cell_type": "code",
      "metadata": {
        "id": "rqohDFuE-0kN"
      },
      "source": [
        "from fairlearn.datasets import fetch_adult\n",
        "\n",
        "adult = fetch_adult()"
      ],
      "execution_count": null,
      "outputs": []
    },
    {
      "cell_type": "markdown",
      "metadata": {
        "id": "hsn9GgKL_Dyw"
      },
      "source": [
        "### 2. Choosing a subset of the columns\n",
        "The features are chosen because they are numerical or categorical but with a small numer of unique categories. The latter is good beacuse we want there to be enough observations in each category."
      ]
    },
    {
      "cell_type": "code",
      "metadata": {
        "id": "FQZTS8Aw-69-"
      },
      "source": [
        "columns = ['age', 'workclass', 'education-num', 'sex', 'hours-per-week']"
      ],
      "execution_count": null,
      "outputs": []
    },
    {
      "cell_type": "code",
      "metadata": {
        "id": "GnzE-Ool_Wt6"
      },
      "source": [
        "data = pd.DataFrame(data = adult.data, columns = adult.feature_names)[columns]"
      ],
      "execution_count": null,
      "outputs": []
    },
    {
      "cell_type": "code",
      "metadata": {
        "colab": {
          "base_uri": "https://localhost:8080/"
        },
        "id": "3ha2sipp_ay4",
        "outputId": "a7229594-9bfb-4e4b-f680-b49b8d28aaea"
      },
      "source": [
        "data.head()"
      ],
      "execution_count": null,
      "outputs": [
        {
          "output_type": "execute_result",
          "data": {
            "text/html": [
              "<div>\n",
              "<style scoped>\n",
              "    .dataframe tbody tr th:only-of-type {\n",
              "        vertical-align: middle;\n",
              "    }\n",
              "\n",
              "    .dataframe tbody tr th {\n",
              "        vertical-align: top;\n",
              "    }\n",
              "\n",
              "    .dataframe thead th {\n",
              "        text-align: right;\n",
              "    }\n",
              "</style>\n",
              "<table border=\"1\" class=\"dataframe\">\n",
              "  <thead>\n",
              "    <tr style=\"text-align: right;\">\n",
              "      <th></th>\n",
              "      <th>age</th>\n",
              "      <th>workclass</th>\n",
              "      <th>education-num</th>\n",
              "      <th>sex</th>\n",
              "      <th>hours-per-week</th>\n",
              "    </tr>\n",
              "  </thead>\n",
              "  <tbody>\n",
              "    <tr>\n",
              "      <th>0</th>\n",
              "      <td>25.0</td>\n",
              "      <td>0.0</td>\n",
              "      <td>7.0</td>\n",
              "      <td>1.0</td>\n",
              "      <td>40.0</td>\n",
              "    </tr>\n",
              "    <tr>\n",
              "      <th>1</th>\n",
              "      <td>38.0</td>\n",
              "      <td>0.0</td>\n",
              "      <td>9.0</td>\n",
              "      <td>1.0</td>\n",
              "      <td>50.0</td>\n",
              "    </tr>\n",
              "    <tr>\n",
              "      <th>2</th>\n",
              "      <td>28.0</td>\n",
              "      <td>4.0</td>\n",
              "      <td>12.0</td>\n",
              "      <td>1.0</td>\n",
              "      <td>40.0</td>\n",
              "    </tr>\n",
              "    <tr>\n",
              "      <th>3</th>\n",
              "      <td>44.0</td>\n",
              "      <td>0.0</td>\n",
              "      <td>10.0</td>\n",
              "      <td>1.0</td>\n",
              "      <td>40.0</td>\n",
              "    </tr>\n",
              "    <tr>\n",
              "      <th>4</th>\n",
              "      <td>18.0</td>\n",
              "      <td>NaN</td>\n",
              "      <td>10.0</td>\n",
              "      <td>0.0</td>\n",
              "      <td>30.0</td>\n",
              "    </tr>\n",
              "  </tbody>\n",
              "</table>\n",
              "</div>"
            ],
            "text/plain": [
              "    age  workclass  education-num  sex  hours-per-week\n",
              "0  25.0        0.0            7.0  1.0            40.0\n",
              "1  38.0        0.0            9.0  1.0            50.0\n",
              "2  28.0        4.0           12.0  1.0            40.0\n",
              "3  44.0        0.0           10.0  1.0            40.0\n",
              "4  18.0        NaN           10.0  0.0            30.0"
            ]
          },
          "metadata": {},
          "execution_count": 5
        }
      ]
    },
    {
      "cell_type": "markdown",
      "metadata": {
        "id": "nhuWBa3a_gK0"
      },
      "source": [
        "### 3. Recoding the `workclass` variable\n",
        "As of now, the column `workclass` contains numbers, but the numbers doesn't have any mean. They're just representing categories. Later on, we will one-hot-encode these, and to be able to better interpret them after that, I want to put the category names insteda of numbers into the dataframe."
      ]
    },
    {
      "cell_type": "code",
      "metadata": {
        "id": "f4xr_BxG_fPD"
      },
      "source": [
        "# Fetch the categories of the variable 'workclass'\n",
        "workclass_categories = adult.categories['workclass']\n",
        "\n",
        "# Combine into a dictionary mapping category to the number in the dataframe\n",
        "workclass_mapping = dict(zip(np.sort(data.workclass.unique()), workclass_categories))\n",
        "\n",
        "# Replace the numerical value with the category\n",
        "data['workclass'] = data['workclass'].map(workclass_mapping)\n",
        "\n",
        "# Replace the missing values with 'Missing' - maybe there's an interesting pattern there?\n",
        "data['workclass'] = data['workclass'].fillna('Missing')"
      ],
      "execution_count": null,
      "outputs": []
    },
    {
      "cell_type": "markdown",
      "metadata": {
        "id": "RvnAZcaMAQ3z"
      },
      "source": [
        "### 4. Check for missing values"
      ]
    },
    {
      "cell_type": "code",
      "metadata": {
        "colab": {
          "base_uri": "https://localhost:8080/"
        },
        "id": "yI8y8vPXASTw",
        "outputId": "8a72b797-6863-4b05-b048-84b22ec09ffa"
      },
      "source": [
        "# Check for null values\n",
        "data.isnull().sum()"
      ],
      "execution_count": null,
      "outputs": [
        {
          "output_type": "execute_result",
          "data": {
            "text/plain": [
              "age               0\n",
              "workclass         0\n",
              "education-num     0\n",
              "sex               0\n",
              "hours-per-week    0\n",
              "dtype: int64"
            ]
          },
          "metadata": {},
          "execution_count": 7
        }
      ]
    },
    {
      "cell_type": "markdown",
      "metadata": {
        "id": "pgZSxKtfAUQm"
      },
      "source": [
        "### 5. One-Hot-Encoding the categorical column `workclass`"
      ]
    },
    {
      "cell_type": "code",
      "metadata": {
        "id": "_osY72SUAZcJ"
      },
      "source": [
        "# Turn the categorical column (workclass) into dummy features, aka One-Hot-Encoding\n",
        "data = pd.get_dummies(data)"
      ],
      "execution_count": null,
      "outputs": []
    },
    {
      "cell_type": "markdown",
      "metadata": {
        "id": "0ggKuiP0Aj6A"
      },
      "source": [
        "### 6. Remove and save the protected/sensitive attribute"
      ]
    },
    {
      "cell_type": "code",
      "metadata": {
        "id": "wVqIBxahAmTz"
      },
      "source": [
        "# Remove sex - we do not want to pre-process that variable!\n",
        "# With .pop() we save it, which is good, we need it later for the fairness evaluation\n",
        "protected = data.pop('sex')"
      ],
      "execution_count": null,
      "outputs": []
    },
    {
      "cell_type": "code",
      "metadata": {
        "colab": {
          "base_uri": "https://localhost:8080/"
        },
        "id": "3SxLK-GiAe7a",
        "outputId": "ba89c604-6b31-47fc-9f73-14882c30e1a2"
      },
      "source": [
        "data.head()"
      ],
      "execution_count": null,
      "outputs": [
        {
          "output_type": "execute_result",
          "data": {
            "text/html": [
              "<div>\n",
              "<style scoped>\n",
              "    .dataframe tbody tr th:only-of-type {\n",
              "        vertical-align: middle;\n",
              "    }\n",
              "\n",
              "    .dataframe tbody tr th {\n",
              "        vertical-align: top;\n",
              "    }\n",
              "\n",
              "    .dataframe thead th {\n",
              "        text-align: right;\n",
              "    }\n",
              "</style>\n",
              "<table border=\"1\" class=\"dataframe\">\n",
              "  <thead>\n",
              "    <tr style=\"text-align: right;\">\n",
              "      <th></th>\n",
              "      <th>age</th>\n",
              "      <th>education-num</th>\n",
              "      <th>hours-per-week</th>\n",
              "      <th>workclass_Federal-gov</th>\n",
              "      <th>workclass_Local-gov</th>\n",
              "      <th>workclass_Missing</th>\n",
              "      <th>workclass_Never-worked</th>\n",
              "      <th>workclass_Private</th>\n",
              "      <th>workclass_Self-emp-inc</th>\n",
              "      <th>workclass_Self-emp-not-inc</th>\n",
              "      <th>workclass_State-gov</th>\n",
              "      <th>workclass_Without-pay</th>\n",
              "    </tr>\n",
              "  </thead>\n",
              "  <tbody>\n",
              "    <tr>\n",
              "      <th>0</th>\n",
              "      <td>25.0</td>\n",
              "      <td>7.0</td>\n",
              "      <td>40.0</td>\n",
              "      <td>0</td>\n",
              "      <td>0</td>\n",
              "      <td>0</td>\n",
              "      <td>0</td>\n",
              "      <td>1</td>\n",
              "      <td>0</td>\n",
              "      <td>0</td>\n",
              "      <td>0</td>\n",
              "      <td>0</td>\n",
              "    </tr>\n",
              "    <tr>\n",
              "      <th>1</th>\n",
              "      <td>38.0</td>\n",
              "      <td>9.0</td>\n",
              "      <td>50.0</td>\n",
              "      <td>0</td>\n",
              "      <td>0</td>\n",
              "      <td>0</td>\n",
              "      <td>0</td>\n",
              "      <td>1</td>\n",
              "      <td>0</td>\n",
              "      <td>0</td>\n",
              "      <td>0</td>\n",
              "      <td>0</td>\n",
              "    </tr>\n",
              "    <tr>\n",
              "      <th>2</th>\n",
              "      <td>28.0</td>\n",
              "      <td>12.0</td>\n",
              "      <td>40.0</td>\n",
              "      <td>0</td>\n",
              "      <td>1</td>\n",
              "      <td>0</td>\n",
              "      <td>0</td>\n",
              "      <td>0</td>\n",
              "      <td>0</td>\n",
              "      <td>0</td>\n",
              "      <td>0</td>\n",
              "      <td>0</td>\n",
              "    </tr>\n",
              "    <tr>\n",
              "      <th>3</th>\n",
              "      <td>44.0</td>\n",
              "      <td>10.0</td>\n",
              "      <td>40.0</td>\n",
              "      <td>0</td>\n",
              "      <td>0</td>\n",
              "      <td>0</td>\n",
              "      <td>0</td>\n",
              "      <td>1</td>\n",
              "      <td>0</td>\n",
              "      <td>0</td>\n",
              "      <td>0</td>\n",
              "      <td>0</td>\n",
              "    </tr>\n",
              "    <tr>\n",
              "      <th>4</th>\n",
              "      <td>18.0</td>\n",
              "      <td>10.0</td>\n",
              "      <td>30.0</td>\n",
              "      <td>0</td>\n",
              "      <td>0</td>\n",
              "      <td>1</td>\n",
              "      <td>0</td>\n",
              "      <td>0</td>\n",
              "      <td>0</td>\n",
              "      <td>0</td>\n",
              "      <td>0</td>\n",
              "      <td>0</td>\n",
              "    </tr>\n",
              "  </tbody>\n",
              "</table>\n",
              "</div>"
            ],
            "text/plain": [
              "    age  education-num  ...  workclass_State-gov  workclass_Without-pay\n",
              "0  25.0            7.0  ...                    0                      0\n",
              "1  38.0            9.0  ...                    0                      0\n",
              "2  28.0           12.0  ...                    0                      0\n",
              "3  44.0           10.0  ...                    0                      0\n",
              "4  18.0           10.0  ...                    0                      0\n",
              "\n",
              "[5 rows x 12 columns]"
            ]
          },
          "metadata": {},
          "execution_count": 10
        }
      ]
    },
    {
      "cell_type": "markdown",
      "metadata": {
        "id": "xIj0HQ2SAu4U"
      },
      "source": [
        "### 7. Standardize the features\n",
        "\n",
        "Normally, we'd want to fit the scaler to only the train set and transform both train and test set by the mean and std of the train set. In this case, we do not have a train and test set yet, so we will standardize it all together."
      ]
    },
    {
      "cell_type": "code",
      "metadata": {
        "id": "4Ca0Hb5SAzuL"
      },
      "source": [
        "from sklearn.preprocessing import StandardScaler\n",
        "\n",
        "# Fit the standardizer to the train set\n",
        "scaler = StandardScaler()\n",
        "\n",
        "# Scale the data\n",
        "data_scaled = scaler.fit_transform(data)\n",
        "\n",
        "# Put back to pandas dataframe\n",
        "data = pd.DataFrame(data_scaled, columns = data.columns)"
      ],
      "execution_count": null,
      "outputs": []
    },
    {
      "cell_type": "code",
      "metadata": {
        "colab": {
          "base_uri": "https://localhost:8080/"
        },
        "id": "kXXqVvlGAGmB",
        "outputId": "26ff0c88-5ed4-46ff-8a15-45567acbd480"
      },
      "source": [
        "data.head()"
      ],
      "execution_count": null,
      "outputs": [
        {
          "output_type": "execute_result",
          "data": {
            "text/html": [
              "<div>\n",
              "<style scoped>\n",
              "    .dataframe tbody tr th:only-of-type {\n",
              "        vertical-align: middle;\n",
              "    }\n",
              "\n",
              "    .dataframe tbody tr th {\n",
              "        vertical-align: top;\n",
              "    }\n",
              "\n",
              "    .dataframe thead th {\n",
              "        text-align: right;\n",
              "    }\n",
              "</style>\n",
              "<table border=\"1\" class=\"dataframe\">\n",
              "  <thead>\n",
              "    <tr style=\"text-align: right;\">\n",
              "      <th></th>\n",
              "      <th>age</th>\n",
              "      <th>education-num</th>\n",
              "      <th>hours-per-week</th>\n",
              "      <th>workclass_Federal-gov</th>\n",
              "      <th>workclass_Local-gov</th>\n",
              "      <th>workclass_Missing</th>\n",
              "      <th>workclass_Never-worked</th>\n",
              "      <th>workclass_Private</th>\n",
              "      <th>workclass_Self-emp-inc</th>\n",
              "      <th>workclass_Self-emp-not-inc</th>\n",
              "      <th>workclass_State-gov</th>\n",
              "      <th>workclass_Without-pay</th>\n",
              "    </tr>\n",
              "  </thead>\n",
              "  <tbody>\n",
              "    <tr>\n",
              "      <th>0</th>\n",
              "      <td>-0.995129</td>\n",
              "      <td>-1.197259</td>\n",
              "      <td>-0.034087</td>\n",
              "      <td>-0.173795</td>\n",
              "      <td>-0.261940</td>\n",
              "      <td>-0.246558</td>\n",
              "      <td>-0.01431</td>\n",
              "      <td>0.663711</td>\n",
              "      <td>-0.189609</td>\n",
              "      <td>-0.293019</td>\n",
              "      <td>-0.205606</td>\n",
              "      <td>-0.02074</td>\n",
              "    </tr>\n",
              "    <tr>\n",
              "      <th>1</th>\n",
              "      <td>-0.046942</td>\n",
              "      <td>-0.419335</td>\n",
              "      <td>0.772930</td>\n",
              "      <td>-0.173795</td>\n",
              "      <td>-0.261940</td>\n",
              "      <td>-0.246558</td>\n",
              "      <td>-0.01431</td>\n",
              "      <td>0.663711</td>\n",
              "      <td>-0.189609</td>\n",
              "      <td>-0.293019</td>\n",
              "      <td>-0.205606</td>\n",
              "      <td>-0.02074</td>\n",
              "    </tr>\n",
              "    <tr>\n",
              "      <th>2</th>\n",
              "      <td>-0.776316</td>\n",
              "      <td>0.747550</td>\n",
              "      <td>-0.034087</td>\n",
              "      <td>-0.173795</td>\n",
              "      <td>3.817672</td>\n",
              "      <td>-0.246558</td>\n",
              "      <td>-0.01431</td>\n",
              "      <td>-1.506680</td>\n",
              "      <td>-0.189609</td>\n",
              "      <td>-0.293019</td>\n",
              "      <td>-0.205606</td>\n",
              "      <td>-0.02074</td>\n",
              "    </tr>\n",
              "    <tr>\n",
              "      <th>3</th>\n",
              "      <td>0.390683</td>\n",
              "      <td>-0.030373</td>\n",
              "      <td>-0.034087</td>\n",
              "      <td>-0.173795</td>\n",
              "      <td>-0.261940</td>\n",
              "      <td>-0.246558</td>\n",
              "      <td>-0.01431</td>\n",
              "      <td>0.663711</td>\n",
              "      <td>-0.189609</td>\n",
              "      <td>-0.293019</td>\n",
              "      <td>-0.205606</td>\n",
              "      <td>-0.02074</td>\n",
              "    </tr>\n",
              "    <tr>\n",
              "      <th>4</th>\n",
              "      <td>-1.505691</td>\n",
              "      <td>-0.030373</td>\n",
              "      <td>-0.841104</td>\n",
              "      <td>-0.173795</td>\n",
              "      <td>-0.261940</td>\n",
              "      <td>4.055836</td>\n",
              "      <td>-0.01431</td>\n",
              "      <td>-1.506680</td>\n",
              "      <td>-0.189609</td>\n",
              "      <td>-0.293019</td>\n",
              "      <td>-0.205606</td>\n",
              "      <td>-0.02074</td>\n",
              "    </tr>\n",
              "  </tbody>\n",
              "</table>\n",
              "</div>"
            ],
            "text/plain": [
              "        age  education-num  ...  workclass_State-gov  workclass_Without-pay\n",
              "0 -0.995129      -1.197259  ...            -0.205606               -0.02074\n",
              "1 -0.046942      -0.419335  ...            -0.205606               -0.02074\n",
              "2 -0.776316       0.747550  ...            -0.205606               -0.02074\n",
              "3  0.390683      -0.030373  ...            -0.205606               -0.02074\n",
              "4 -1.505691      -0.030373  ...            -0.205606               -0.02074\n",
              "\n",
              "[5 rows x 12 columns]"
            ]
          },
          "metadata": {},
          "execution_count": 12
        }
      ]
    },
    {
      "cell_type": "markdown",
      "metadata": {
        "id": "8YdJ2PdLBlpI"
      },
      "source": [
        "### 8. Add protected attribute and label to the dataset"
      ]
    },
    {
      "cell_type": "code",
      "metadata": {
        "id": "GI4iSqw2Bo3e"
      },
      "source": [
        "data['sex'] = protected\n",
        "data['salary'] = adult.target"
      ],
      "execution_count": null,
      "outputs": []
    },
    {
      "cell_type": "code",
      "metadata": {
        "colab": {
          "base_uri": "https://localhost:8080/"
        },
        "id": "CQA1Ak5NBVCo",
        "outputId": "d26a2062-c90e-41b3-ca5c-8d83ceda532f"
      },
      "source": [
        "data.head()"
      ],
      "execution_count": null,
      "outputs": [
        {
          "output_type": "execute_result",
          "data": {
            "text/html": [
              "<div>\n",
              "<style scoped>\n",
              "    .dataframe tbody tr th:only-of-type {\n",
              "        vertical-align: middle;\n",
              "    }\n",
              "\n",
              "    .dataframe tbody tr th {\n",
              "        vertical-align: top;\n",
              "    }\n",
              "\n",
              "    .dataframe thead th {\n",
              "        text-align: right;\n",
              "    }\n",
              "</style>\n",
              "<table border=\"1\" class=\"dataframe\">\n",
              "  <thead>\n",
              "    <tr style=\"text-align: right;\">\n",
              "      <th></th>\n",
              "      <th>age</th>\n",
              "      <th>education-num</th>\n",
              "      <th>hours-per-week</th>\n",
              "      <th>workclass_Federal-gov</th>\n",
              "      <th>workclass_Local-gov</th>\n",
              "      <th>workclass_Missing</th>\n",
              "      <th>workclass_Never-worked</th>\n",
              "      <th>workclass_Private</th>\n",
              "      <th>workclass_Self-emp-inc</th>\n",
              "      <th>workclass_Self-emp-not-inc</th>\n",
              "      <th>workclass_State-gov</th>\n",
              "      <th>workclass_Without-pay</th>\n",
              "      <th>sex</th>\n",
              "      <th>salary</th>\n",
              "    </tr>\n",
              "  </thead>\n",
              "  <tbody>\n",
              "    <tr>\n",
              "      <th>0</th>\n",
              "      <td>-0.995129</td>\n",
              "      <td>-1.197259</td>\n",
              "      <td>-0.034087</td>\n",
              "      <td>-0.173795</td>\n",
              "      <td>-0.261940</td>\n",
              "      <td>-0.246558</td>\n",
              "      <td>-0.01431</td>\n",
              "      <td>0.663711</td>\n",
              "      <td>-0.189609</td>\n",
              "      <td>-0.293019</td>\n",
              "      <td>-0.205606</td>\n",
              "      <td>-0.02074</td>\n",
              "      <td>1.0</td>\n",
              "      <td>&lt;=50K</td>\n",
              "    </tr>\n",
              "    <tr>\n",
              "      <th>1</th>\n",
              "      <td>-0.046942</td>\n",
              "      <td>-0.419335</td>\n",
              "      <td>0.772930</td>\n",
              "      <td>-0.173795</td>\n",
              "      <td>-0.261940</td>\n",
              "      <td>-0.246558</td>\n",
              "      <td>-0.01431</td>\n",
              "      <td>0.663711</td>\n",
              "      <td>-0.189609</td>\n",
              "      <td>-0.293019</td>\n",
              "      <td>-0.205606</td>\n",
              "      <td>-0.02074</td>\n",
              "      <td>1.0</td>\n",
              "      <td>&lt;=50K</td>\n",
              "    </tr>\n",
              "    <tr>\n",
              "      <th>2</th>\n",
              "      <td>-0.776316</td>\n",
              "      <td>0.747550</td>\n",
              "      <td>-0.034087</td>\n",
              "      <td>-0.173795</td>\n",
              "      <td>3.817672</td>\n",
              "      <td>-0.246558</td>\n",
              "      <td>-0.01431</td>\n",
              "      <td>-1.506680</td>\n",
              "      <td>-0.189609</td>\n",
              "      <td>-0.293019</td>\n",
              "      <td>-0.205606</td>\n",
              "      <td>-0.02074</td>\n",
              "      <td>1.0</td>\n",
              "      <td>&gt;50K</td>\n",
              "    </tr>\n",
              "    <tr>\n",
              "      <th>3</th>\n",
              "      <td>0.390683</td>\n",
              "      <td>-0.030373</td>\n",
              "      <td>-0.034087</td>\n",
              "      <td>-0.173795</td>\n",
              "      <td>-0.261940</td>\n",
              "      <td>-0.246558</td>\n",
              "      <td>-0.01431</td>\n",
              "      <td>0.663711</td>\n",
              "      <td>-0.189609</td>\n",
              "      <td>-0.293019</td>\n",
              "      <td>-0.205606</td>\n",
              "      <td>-0.02074</td>\n",
              "      <td>1.0</td>\n",
              "      <td>&gt;50K</td>\n",
              "    </tr>\n",
              "    <tr>\n",
              "      <th>4</th>\n",
              "      <td>-1.505691</td>\n",
              "      <td>-0.030373</td>\n",
              "      <td>-0.841104</td>\n",
              "      <td>-0.173795</td>\n",
              "      <td>-0.261940</td>\n",
              "      <td>4.055836</td>\n",
              "      <td>-0.01431</td>\n",
              "      <td>-1.506680</td>\n",
              "      <td>-0.189609</td>\n",
              "      <td>-0.293019</td>\n",
              "      <td>-0.205606</td>\n",
              "      <td>-0.02074</td>\n",
              "      <td>0.0</td>\n",
              "      <td>&lt;=50K</td>\n",
              "    </tr>\n",
              "  </tbody>\n",
              "</table>\n",
              "</div>"
            ],
            "text/plain": [
              "        age  education-num  hours-per-week  ...  workclass_Without-pay  sex  salary\n",
              "0 -0.995129      -1.197259       -0.034087  ...               -0.02074  1.0   <=50K\n",
              "1 -0.046942      -0.419335        0.772930  ...               -0.02074  1.0   <=50K\n",
              "2 -0.776316       0.747550       -0.034087  ...               -0.02074  1.0    >50K\n",
              "3  0.390683      -0.030373       -0.034087  ...               -0.02074  1.0    >50K\n",
              "4 -1.505691      -0.030373       -0.841104  ...               -0.02074  0.0   <=50K\n",
              "\n",
              "[5 rows x 14 columns]"
            ]
          },
          "metadata": {},
          "execution_count": 14
        }
      ]
    },
    {
      "cell_type": "markdown",
      "metadata": {
        "id": "OIy52lgVB4xx"
      },
      "source": [
        "### 9. Save dataframe to csv\n",
        "Beacuse we are going to use the dataset in another notebook, I'm saving it to csv."
      ]
    },
    {
      "cell_type": "code",
      "metadata": {
        "id": "AePzy5ugBwNc"
      },
      "source": [
        "data.to_csv('adult_preprocessed.csv')"
      ],
      "execution_count": null,
      "outputs": []
    }
  ]
}